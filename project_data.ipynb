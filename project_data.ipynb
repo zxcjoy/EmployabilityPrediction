{
 "cells": [
  {
   "cell_type": "code",
   "execution_count": 8,
   "metadata": {},
   "outputs": [],
   "source": [
    "import pandas as pd\n",
    "from sklearn.model_selection import train_test_split\n",
    "from collections import Counter"
   ]
  },
  {
   "cell_type": "code",
   "execution_count": 2,
   "metadata": {},
   "outputs": [],
   "source": [
    "data = pd.read_csv(\"stackoverflow_full.csv\")\n",
    "missing_data = data.isna().sum()"
   ]
  },
  {
   "cell_type": "code",
   "execution_count": 3,
   "metadata": {},
   "outputs": [
    {
     "name": "stdout",
     "output_type": "stream",
     "text": [
      "Unnamed: 0         0\n",
      "Age                0\n",
      "Accessibility      0\n",
      "EdLevel            0\n",
      "Employment         0\n",
      "Gender             0\n",
      "MentalHealth       0\n",
      "MainBranch         0\n",
      "YearsCode          0\n",
      "YearsCodePro       0\n",
      "Country            0\n",
      "PreviousSalary     0\n",
      "HaveWorkedWith    63\n",
      "ComputerSkills     0\n",
      "Employed           0\n",
      "dtype: int64\n"
     ]
    }
   ],
   "source": [
    "print(missing_data)"
   ]
  },
  {
   "cell_type": "code",
   "execution_count": 20,
   "metadata": {},
   "outputs": [
    {
     "name": "stdout",
     "output_type": "stream",
     "text": [
      "   Unnamed: 0  Age Accessibility        EdLevel  Employment Gender  \\\n",
      "0           0  <35            No         Master           1    Man   \n",
      "1           1  <35            No  Undergraduate           1    Man   \n",
      "2           2  <35            No         Master           1    Man   \n",
      "3           3  <35            No  Undergraduate           1    Man   \n",
      "4           4  >35            No            PhD           0    Man   \n",
      "\n",
      "  MentalHealth MainBranch  YearsCode  YearsCodePro    Country  PreviousSalary  \\\n",
      "0           No        Dev          7             4     Sweden         51552.0   \n",
      "1           No        Dev         12             5      Spain         46482.0   \n",
      "2           No        Dev         15             6    Germany         77290.0   \n",
      "3           No        Dev          9             6     Canada         46135.0   \n",
      "4           No     NotDev         40            30  Singapore        160932.0   \n",
      "\n",
      "                                      HaveWorkedWith  ComputerSkills  Employed  \n",
      "0                          C++;Python;Git;PostgreSQL               4         0  \n",
      "1  Bash/Shell;HTML/CSS;JavaScript;Node.js;SQL;Typ...              12         1  \n",
      "2             C;C++;Java;Perl;Ruby;Git;Ruby on Rails               7         0  \n",
      "3  Bash/Shell;HTML/CSS;JavaScript;PHP;Ruby;SQL;Gi...              13         0  \n",
      "4                                         C++;Python               2         0  \n"
     ]
    }
   ],
   "source": [
    "print(data.head())"
   ]
  },
  {
   "cell_type": "code",
   "execution_count": 1,
   "metadata": {},
   "outputs": [
    {
     "name": "stdout",
     "output_type": "stream",
     "text": [
      "Datasets saved successfully.\n"
     ]
    }
   ],
   "source": [
    "# train_ratio = 0.7\n",
    "# valid_ratio = 0.15\n",
    "# test_ratio = 0.15 \n",
    "\n",
    "# train_data, temp_data = train_test_split(data, test_size = 1 - train_ratio, random_state=42)\n",
    "# valid_data, test_data = train_test_split(temp_data, test_size=test_ratio / (test_ratio + valid_ratio), random_state=42)\n",
    "\n",
    "# train_data.to_csv(\"train_set.csv\", index=False)\n",
    "# valid_data.to_csv(\"valid_set.csv\", index=False)\n",
    "# test_data.to_csv(\"test_set.csv\", index=False)\n",
    "\n",
    "# print(\"Datasets saved successfully.\")"
   ]
  },
  {
   "cell_type": "markdown",
   "metadata": {},
   "source": [
    "### Find top ten computer skills"
   ]
  },
  {
   "cell_type": "code",
   "execution_count": 16,
   "metadata": {},
   "outputs": [
    {
     "name": "stdout",
     "output_type": "stream",
     "text": [
      "['JavaScript', 'Docker', 'HTML/CSS', 'SQL', 'Git', 'AWS', 'Python', 'PostgreSQL', 'MySQL', 'TypeScript']\n"
     ]
    }
   ],
   "source": [
    "all_skills = data['HaveWorkedWith'].str.split(';')\n",
    "# print(all_skills)\n",
    "flattened_skills = [\n",
    "    skill.strip() \n",
    "    for sublist in all_skills if isinstance(sublist, list)  # Check if the sublist is actually a list\n",
    "    for skill in sublist if isinstance(skill, str)          # Then iterate over each skill in the sublist\n",
    "]\n",
    "\n",
    "skills_count = Counter(flattened_skills)\n",
    "top_skills = [skill for skill, count in skills_count.most_common(10)]\n",
    "# print(top_skills)"
   ]
  },
  {
   "cell_type": "markdown",
   "metadata": {},
   "source": [
    "Update the dataset with ten columns representing the top ten most popular skills where each column has a binary value indicating the presence (1) or absence (0) of a skill:"
   ]
  },
  {
   "cell_type": "code",
   "execution_count": 19,
   "metadata": {},
   "outputs": [
    {
     "name": "stdout",
     "output_type": "stream",
     "text": [
      "   Unnamed: 0  Age Accessibility        EdLevel  Employment Gender  \\\n",
      "0           0  <35            No         Master           1    Man   \n",
      "1           1  <35            No  Undergraduate           1    Man   \n",
      "2           2  <35            No         Master           1    Man   \n",
      "3           3  <35            No  Undergraduate           1    Man   \n",
      "4           4  >35            No            PhD           0    Man   \n",
      "\n",
      "  MentalHealth MainBranch  YearsCode  YearsCodePro  ... JavaScript  Docker  \\\n",
      "0           No        Dev          7             4  ...          0       0   \n",
      "1           No        Dev         12             5  ...          1       0   \n",
      "2           No        Dev         15             6  ...          0       0   \n",
      "3           No        Dev          9             6  ...          1       0   \n",
      "4           No     NotDev         40            30  ...          0       0   \n",
      "\n",
      "  HTML/CSS  SQL  Git  AWS  Python  PostgreSQL  MySQL  TypeScript  \n",
      "0        0    0    1    0       1           1      0           0  \n",
      "1        1    1    1    1       0           1      0           1  \n",
      "2        0    0    1    0       0           0      0           0  \n",
      "3        1    1    1    1       0           1      1           0  \n",
      "4        0    0    0    0       1           0      0           0  \n",
      "\n",
      "[5 rows x 25 columns]\n"
     ]
    }
   ],
   "source": [
    "def create_binary_columns(skill_list, top_skills):\n",
    "    # Create a binary list representing the presence or absence of each top skill\n",
    "    return [1 if skill in skill_list else 0 for skill in top_skills]   \n",
    "\n",
    "data['HaveWorkedWith'] = data['HaveWorkedWith'].fillna('')  # Replace NaN with empty string\n",
    "all_skills = data['HaveWorkedWith'].str.split(';')  # Split skills into lists\n",
    "binary_columns = all_skills.apply(lambda x: create_binary_columns(x, top_skills))\n",
    "binary_df = pd.DataFrame(binary_columns.tolist(), columns=top_skills)\n",
    "final_dataset = pd.concat([data, binary_df], axis=1)\n",
    "print(final_dataset.head())"
   ]
  },
  {
   "cell_type": "markdown",
   "metadata": {},
   "source": [
    "Split the final dataset to 3 csv files (train/valid/test):"
   ]
  },
  {
   "cell_type": "code",
   "execution_count": 21,
   "metadata": {},
   "outputs": [
    {
     "name": "stdout",
     "output_type": "stream",
     "text": [
      "Datasets saved successfully.\n"
     ]
    }
   ],
   "source": [
    "# using fixed rate and random_state to ensure reproducibility\n",
    "\n",
    "train_ratio = 0.7\n",
    "valid_ratio = 0.15\n",
    "test_ratio = 0.15\n",
    "\n",
    "train_data, temp_data = train_test_split(final_dataset, test_size = 1 - train_ratio, random_state=42)\n",
    "valid_data, test_data = train_test_split(temp_data, test_size=test_ratio / (test_ratio + valid_ratio), random_state=42)\n",
    "\n",
    "train_data.to_csv(\"train_set.csv\", index=False)\n",
    "valid_data.to_csv(\"valid_set.csv\", index=False)\n",
    "test_data.to_csv(\"test_set.csv\", index=False)\n",
    "\n",
    "print(\"Split datasets saved successfully.\")"
   ]
  },
  {
   "cell_type": "code",
   "execution_count": null,
   "metadata": {},
   "outputs": [],
   "source": []
  }
 ],
 "metadata": {
  "kernelspec": {
   "display_name": "base",
   "language": "python",
   "name": "python3"
  },
  "language_info": {
   "codemirror_mode": {
    "name": "ipython",
    "version": 3
   },
   "file_extension": ".py",
   "mimetype": "text/x-python",
   "name": "python",
   "nbconvert_exporter": "python",
   "pygments_lexer": "ipython3",
   "version": "3.11.4"
  },
  "orig_nbformat": 4
 },
 "nbformat": 4,
 "nbformat_minor": 2
}
